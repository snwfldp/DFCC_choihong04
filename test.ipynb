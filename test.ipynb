{
 "cells": [
  {
   "cell_type": "markdown",
   "id": "c49c3bca",
   "metadata": {},
   "source": [
    "## 1. Import libraries"
   ]
  },
  {
   "cell_type": "code",
   "execution_count": 1,
   "id": "cc612a1a",
   "metadata": {},
   "outputs": [],
   "source": [
    "import os\n",
    "import pickle\n",
    "import numpy as np\n",
    "from sklearn.metrics import accuracy_score, f1_score\n",
    "import matplotlib.pyplot as plt\n",
    "from model import extract_features_from_path"
   ]
  },
  {
   "cell_type": "markdown",
   "id": "7a8f8a2e",
   "metadata": {},
   "source": [
    "## 2. Data preprocessing"
   ]
  },
  {
   "cell_type": "code",
   "execution_count": 2,
   "id": "0e82296d",
   "metadata": {},
   "outputs": [],
   "source": [
    "# Test data path\n",
    "test_metadata_path = './2501ml_data/label/test_label.txt'\n",
    "test_data_path     = './2501ml_data/test'"
   ]
  },
  {
   "cell_type": "code",
   "execution_count": 3,
   "id": "eeb9cb6e",
   "metadata": {},
   "outputs": [
    {
     "name": "stdout",
     "output_type": "stream",
     "text": [
      "Pipeline(steps=[('scaler', StandardScaler()),\n",
      "                ('kpca', KernelPCA(kernel='rbf', n_components=15)),\n",
      "                ('lda', LinearDiscriminantAnalysis(n_components=1)),\n",
      "                ('svc',\n",
      "                 SVC(C=10, class_weight={'Fake': 9, 'Real': 1}, gamma=0.01,\n",
      "                     probability=True))])\n"
     ]
    }
   ],
   "source": [
    "# Load model\n",
    "model_path = './model.pkl'\n",
    "with open(model_path, 'rb') as f:\n",
    "    best_pipe = pickle.load(f)\n",
    "\n",
    "print(best_pipe)"
   ]
  },
  {
   "cell_type": "code",
   "execution_count": 4,
   "id": "591cb3c2",
   "metadata": {},
   "outputs": [],
   "source": [
    "# Load test data\n",
    "test_x = []\n",
    "test_y = []\n",
    "test_file_names = []\n",
    "\n",
    "with open(test_metadata_path, 'r', encoding='utf-8') as f:\n",
    "    for line in f:\n",
    "        spk, file_name, _, _, label = line.strip().split(' ')\n",
    "        wav_path = os.path.join(test_data_path, file_name)\n",
    "        features = extract_features_from_path(wav_path)\n",
    "        test_x.append(features)\n",
    "        test_y.append(label)\n",
    "        test_file_names.append(file_name)\n",
    "\n",
    "test_x = np.array(test_x)\n",
    "test_y = np.array(test_y)"
   ]
  },
  {
   "cell_type": "code",
   "execution_count": 5,
   "id": "260c5278",
   "metadata": {},
   "outputs": [
    {
     "name": "stdout",
     "output_type": "stream",
     "text": [
      "Test Accuracy: 0.9620\n",
      "Test Weighted F1 Score: 0.9620\n"
     ]
    }
   ],
   "source": [
    "# predict & evaluate\n",
    "predictions = best_pipe.predict(test_x)\n",
    "\n",
    "acc = accuracy_score(test_y, predictions)\n",
    "f1  = f1_score(test_y, predictions, average='weighted')\n",
    "print(f\"Test Accuracy: {acc:.4f}\")\n",
    "print(f\"Test Weighted F1 Score: {f1:.4f}\")"
   ]
  },
  {
   "cell_type": "markdown",
   "id": "6fc37bc2",
   "metadata": {},
   "source": [
    "## 3. Create prediction results file"
   ]
  },
  {
   "cell_type": "code",
   "execution_count": 6,
   "id": "557c1082",
   "metadata": {},
   "outputs": [],
   "source": [
    "with open('./etc/team_test_result.txt', 'w') as f:\n",
    "    for i in range(len(predictions)):\n",
    "        f.write(f\"{test_file_names[i]} {predictions[i]}\\n\")"
   ]
  },
  {
   "cell_type": "code",
   "execution_count": 7,
   "id": "17a36fea",
   "metadata": {},
   "outputs": [
    {
     "name": "stdout",
     "output_type": "stream",
     "text": [
      "============ Results Analysis ===========\n",
      "Test: ./etc/team_test_result.txt\n",
      "True: ./2501ml_data/label/test_label.txt\n",
      "Accuracy: 96.20%\n",
      "Hit: 1924, Total: 2000\n",
      "=========================================\n"
     ]
    }
   ],
   "source": [
    "!perl ./etc/eval.pl ./etc/team_test_result.txt ./2501ml_data/label/test_label.txt"
   ]
  }
 ],
 "metadata": {
  "kernelspec": {
   "display_name": "dfcc",
   "language": "python",
   "name": "python3"
  },
  "language_info": {
   "codemirror_mode": {
    "name": "ipython",
    "version": 3
   },
   "file_extension": ".py",
   "mimetype": "text/x-python",
   "name": "python",
   "nbconvert_exporter": "python",
   "pygments_lexer": "ipython3",
   "version": "3.10.16"
  }
 },
 "nbformat": 4,
 "nbformat_minor": 5
}
